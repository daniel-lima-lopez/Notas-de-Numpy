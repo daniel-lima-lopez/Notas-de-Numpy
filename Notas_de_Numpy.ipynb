{
  "nbformat": 4,
  "nbformat_minor": 0,
  "metadata": {
    "colab": {
      "provenance": []
    },
    "kernelspec": {
      "name": "python3",
      "display_name": "Python 3"
    },
    "language_info": {
      "name": "python"
    }
  },
  "cells": [
    {
      "cell_type": "markdown",
      "source": [
        "# Numpy\n",
        "## Introduccion\n",
        "Numpy oferece una gran variedad de herramientas para realizar calculos numericos, con metodos muy cercanos al harwdware de nuestra computadora, por lo cual, se convierte en una herrmaienta eficiente en comparacion con otro tipo de contenedores de python (listas o tuplas).\n",
        "\n",
        "Para importar esta libreria, simplemente:"
      ],
      "metadata": {
        "id": "nHZHdVDArJj9"
      }
    },
    {
      "cell_type": "code",
      "execution_count": 1,
      "metadata": {
        "id": "2ri5T0WhrIxQ"
      },
      "outputs": [],
      "source": [
        "import numpy as np"
      ]
    },
    {
      "cell_type": "markdown",
      "source": [
        "El objeto mas basico de numpy es el array, este es el equivalente a una lista de python, se puede declarar a partir de cualquier tipo de listas. Podemos representar vectores, matrices o incluso tensores con este objeto:"
      ],
      "metadata": {
        "id": "Kiu4Em3Zr3t_"
      }
    },
    {
      "cell_type": "code",
      "source": [
        "vector = np.array([1,2,3])\n",
        "matrix = np.array([[1,2],[3,4]])\n",
        "tensor = np.array([[[1,2],[3,4]],\n",
        "                                    [[5,6],[7,8]]])\n",
        "print('vector:\\n', vector)\n",
        "print('matrix:\\n', matrix)\n",
        "print('tensor:\\n', tensor)"
      ],
      "metadata": {
        "colab": {
          "base_uri": "https://localhost:8080/"
        },
        "id": "x8rWtCBosJF4",
        "outputId": "99147142-7c32-4537-f9f3-ecfee9b80691"
      },
      "execution_count": 5,
      "outputs": [
        {
          "output_type": "stream",
          "name": "stdout",
          "text": [
            "vector:\n",
            " [1 2 3]\n",
            "matrix:\n",
            " [[1 2]\n",
            " [3 4]]\n",
            "tensor:\n",
            " [[[1 2]\n",
            "  [3 4]]\n",
            "\n",
            " [[5 6]\n",
            "  [7 8]]]\n"
          ]
        }
      ]
    },
    {
      "cell_type": "markdown",
      "source": [
        "Estos objetos poseen una serie de parametros que suelen ser de mucha utilidad:\n",
        "*   *ndim*: devuelve la dimension del array\n",
        "*   *size*: duvuelve el numero de elementos en un array\n",
        "*   *shape*: devuelve las dimensiones de un array como una tupla (filas, columnas)\n",
        "\n",
        "\n"
      ],
      "metadata": {
        "id": "sBovewpItAo1"
      }
    },
    {
      "cell_type": "code",
      "source": [
        "print(vector.ndim, matrix.ndim, tensor.ndim)\n",
        "print(vector.size, matrix.size, tensor.size)\n",
        "print(vector.shape, matrix.shape, tensor.shape)"
      ],
      "metadata": {
        "colab": {
          "base_uri": "https://localhost:8080/"
        },
        "id": "hDoFOUJ4tLS8",
        "outputId": "075ab921-d528-4a25-dcf8-c961b46480df"
      },
      "execution_count": 7,
      "outputs": [
        {
          "output_type": "stream",
          "name": "stdout",
          "text": [
            "1 2 3\n",
            "3 4 8\n",
            "(3,) (2, 2) (2, 2, 2)\n"
          ]
        }
      ]
    },
    {
      "cell_type": "markdown",
      "source": [
        "note que el vector es considerado como un vector columna en automatico\n",
        "\n",
        "Existe una clase que es el equivalente al rango en python, su sintaxis es la siguiente:\n",
        "\n",
        "`np.arange(start, stop, step, dtype=None)`"
      ],
      "metadata": {
        "id": "WbFMofkhvepD"
      }
    },
    {
      "cell_type": "code",
      "source": [
        "arr1 = np.arange(0, 100, 5)\n",
        "arr1"
      ],
      "metadata": {
        "colab": {
          "base_uri": "https://localhost:8080/"
        },
        "id": "66z4hCTXv-LE",
        "outputId": "c965ea28-641d-498d-c0ff-b8e8ffe64ccd"
      },
      "execution_count": 8,
      "outputs": [
        {
          "output_type": "execute_result",
          "data": {
            "text/plain": [
              "array([ 0,  5, 10, 15, 20, 25, 30, 35, 40, 45, 50, 55, 60, 65, 70, 75, 80,\n",
              "       85, 90, 95])"
            ]
          },
          "metadata": {},
          "execution_count": 8
        }
      ]
    },
    {
      "cell_type": "markdown",
      "source": [
        "Por otro lado, si necesitamos crear un array especificando un inicio, un final y un numero exacto de divisiones, podemos usar *linspace*, cuya sintaxis es la siguiente:\n",
        "\n",
        "```\n",
        "np.linspace(start, stop, divitions)\n",
        "```\n",
        "\n"
      ],
      "metadata": {
        "id": "sXOtA7B8webG"
      }
    },
    {
      "cell_type": "code",
      "source": [
        "arr2 = np.linspace(0,10,11)\n",
        "arr2"
      ],
      "metadata": {
        "colab": {
          "base_uri": "https://localhost:8080/"
        },
        "id": "1dtipXvFw18n",
        "outputId": "a4dcae4d-72ea-4155-ac1e-b77856b6e0cf"
      },
      "execution_count": 9,
      "outputs": [
        {
          "output_type": "execute_result",
          "data": {
            "text/plain": [
              "array([ 0.,  1.,  2.,  3.,  4.,  5.,  6.,  7.,  8.,  9., 10.])"
            ]
          },
          "metadata": {},
          "execution_count": 9
        }
      ]
    },
    {
      "cell_type": "markdown",
      "source": [
        "Tambien podemos crear matrices de dimension especifica llena unicamente de 0s y 1s, con los objetos *ones* y *zeros*, su sintaxis es como sigue:\n",
        "\n",
        "```\n",
        "np.zeros((rows, columns))\n",
        "np.ones((rows, columns))\n",
        "```\n",
        "\n"
      ],
      "metadata": {
        "id": "VUWLlOJGw73c"
      }
    },
    {
      "cell_type": "code",
      "source": [
        "m1 = np.zeros((2,3))\n",
        "m2 = np.ones((4,3))\n",
        "print(m1,'\\n',m2)"
      ],
      "metadata": {
        "colab": {
          "base_uri": "https://localhost:8080/"
        },
        "id": "uIU4hWXPxUgj",
        "outputId": "c818c8ac-2a73-4615-8aaa-4a98e74a8caf"
      },
      "execution_count": 10,
      "outputs": [
        {
          "output_type": "stream",
          "name": "stdout",
          "text": [
            "[[0. 0. 0.]\n",
            " [0. 0. 0.]] \n",
            " [[1. 1. 1.]\n",
            " [1. 1. 1.]\n",
            " [1. 1. 1.]\n",
            " [1. 1. 1.]]\n"
          ]
        }
      ]
    },
    {
      "cell_type": "markdown",
      "source": [
        "Tambien podemos crear matrices cuadradas (n x n) diagonales, por ejemplo la matriz identidad con la clase eye, el cual solo se le debe especificar la dimension de la matriz:\n",
        "\n",
        "\n",
        "```\n",
        "np.eye(dimention)\n",
        "```\n",
        "o la clase diag, la cual recibe una lista de numeros que apreceran en la diagonal principal:\n",
        "\n",
        "\n",
        "```\n",
        "np.diag([n1,n2,...])\n",
        "```"
      ],
      "metadata": {
        "id": "678Br78ZxoyN"
      }
    },
    {
      "cell_type": "code",
      "source": [
        "m3 = np.eye(3)\n",
        "m4 = np.diag([1,2,3])\n",
        "print(m3,'\\n',m4)"
      ],
      "metadata": {
        "colab": {
          "base_uri": "https://localhost:8080/"
        },
        "id": "aFWFv49BywtX",
        "outputId": "ec250c05-d509-4189-af3d-896d651ce1dd"
      },
      "execution_count": 11,
      "outputs": [
        {
          "output_type": "stream",
          "name": "stdout",
          "text": [
            "[[1. 0. 0.]\n",
            " [0. 1. 0.]\n",
            " [0. 0. 1.]] \n",
            " [[1 0 0]\n",
            " [0 2 0]\n",
            " [0 0 3]]\n"
          ]
        }
      ]
    },
    {
      "cell_type": "markdown",
      "source": [
        " Tambien podemos trabajar con numeros aleatorios, para ello incluso podemos declarar una semillar como:\n",
        "\n",
        "```\n",
        "np.random.seed(semilla)\n",
        "```\n",
        "Posteriormente, podemos generar numeros aleatorios entre cierto rango [lim_in, lim_sup] como:\n",
        "\n",
        "```\n",
        "np.random.randint(lim_inf, lim_sup)\n",
        "```"
      ],
      "metadata": {
        "id": "4s6GKKyvzo_2"
      }
    },
    {
      "cell_type": "code",
      "source": [
        "np.random.seed(1)\n",
        "num = np.random.randint(1,10)\n",
        "num"
      ],
      "metadata": {
        "colab": {
          "base_uri": "https://localhost:8080/"
        },
        "id": "Q43c3CNd4hYB",
        "outputId": "1e2f9dd2-74c5-4451-947d-f1e914bdafe3"
      },
      "execution_count": 14,
      "outputs": [
        {
          "output_type": "execute_result",
          "data": {
            "text/plain": [
              "6"
            ]
          },
          "metadata": {},
          "execution_count": 14
        }
      ]
    },
    {
      "cell_type": "markdown",
      "source": [
        "Tambien podemos generar arrays con numeros aleatorios de manera lineal (entre 0 y 1) con *random.rand* o normal con *random.randn*:\n",
        "\n",
        "```\n",
        "np.random.rand(no. de elementos)\n",
        "np.random.randn(no. de elementos)\n",
        "```"
      ],
      "metadata": {
        "id": "EELpPVZD4wz_"
      }
    },
    {
      "cell_type": "code",
      "source": [
        "arr1 = np.random.rand(10)\n",
        "arr2 = np.random.randn(10)\n",
        "print(arr1)\n",
        "print(arr2)"
      ],
      "metadata": {
        "colab": {
          "base_uri": "https://localhost:8080/"
        },
        "id": "W_59_R735Trd",
        "outputId": "9e9a0b70-0e86-4091-c614-d884a0b2c576"
      },
      "execution_count": 16,
      "outputs": [
        {
          "output_type": "stream",
          "name": "stdout",
          "text": [
            "[0.09280081 0.51815255 0.86502025 0.82914691 0.82960336 0.27304997\n",
            " 0.0592432  0.67052804 0.59306552 0.6716541 ]\n",
            "[-1.30486124 -0.38057504 -0.74362701 -0.43712177 -0.42645009  1.3814073\n",
            "  0.09837051 -0.36945748 -1.27321995  1.0149868 ]\n"
          ]
        }
      ]
    },
    {
      "cell_type": "markdown",
      "source": [
        "Tambien podemos generar arrays con numeros aleatorios entre cierto intervalo y con un tamano especifico, la sintaxis es como sigue:\n",
        "\n",
        "```\n",
        "np.random.randint(lim_inf, lim_sup, size=(#filas, #columnas))\n",
        "```"
      ],
      "metadata": {
        "id": "pFxX-kCp5tgl"
      }
    },
    {
      "cell_type": "code",
      "source": [
        "matrix = np.random.randint(1,10,size=(2,3))\n",
        "matrix"
      ],
      "metadata": {
        "colab": {
          "base_uri": "https://localhost:8080/"
        },
        "id": "IfS7qsr35-dt",
        "outputId": "64c78f23-24b9-47de-b7b8-6ad55667ae2f"
      },
      "execution_count": 18,
      "outputs": [
        {
          "output_type": "execute_result",
          "data": {
            "text/plain": [
              "array([[3, 8, 8],\n",
              "       [9, 7, 4]])"
            ]
          },
          "metadata": {},
          "execution_count": 18
        }
      ]
    },
    {
      "cell_type": "markdown",
      "source": [
        "Tambien pdemos hacer estos con las distribuciones lineales y normales, especificando la dimension de la matriz deseado, la sintaxis es la siguiente:\n",
        "\n",
        "```\n",
        "np.random.random((#filas, $columnas))\n",
        "np.random.randomn((#filas, $columnas))\n",
        "```"
      ],
      "metadata": {
        "id": "TJZacN9D6LLH"
      }
    },
    {
      "cell_type": "code",
      "source": [
        "m1 = np.random.random((3,4))\n",
        "m1"
      ],
      "metadata": {
        "colab": {
          "base_uri": "https://localhost:8080/"
        },
        "id": "iX2bXyCU6a9h",
        "outputId": "778aabeb-ba00-455a-c964-6deb2477418f"
      },
      "execution_count": 19,
      "outputs": [
        {
          "output_type": "execute_result",
          "data": {
            "text/plain": [
              "array([[0.29361415, 0.28777534, 0.13002857, 0.01936696],\n",
              "       [0.67883553, 0.21162812, 0.26554666, 0.49157316],\n",
              "       [0.05336255, 0.57411761, 0.14672857, 0.58930554]])"
            ]
          },
          "metadata": {},
          "execution_count": 19
        }
      ]
    },
    {
      "cell_type": "markdown",
      "source": [
        "Note que todas las clases usadas para generar matrices devuelven un objeto de tipo array, por esta razon, podemos seguir haciendo uso de estas herramientas y sus parametros sin ningun problema."
      ],
      "metadata": {
        "id": "F8_gX-dy7vBl"
      }
    },
    {
      "cell_type": "markdown",
      "source": [
        "## Tipos de datos\n",
        "Algunas de las clases usadas en la seccion anterior devuelven matrices con elementos de tipo entero o flotante, en ocaciones necesitaremos realizar trnasformaciones de los datos obtenidos. Por ejemple, en el caso de una matriz con datos flotantes:"
      ],
      "metadata": {
        "id": "gnO6ELsl7rmM"
      }
    },
    {
      "cell_type": "code",
      "source": [
        "mfloat = np.ones((2,3))\n",
        "mfloat"
      ],
      "metadata": {
        "colab": {
          "base_uri": "https://localhost:8080/"
        },
        "id": "bjioPGyy8NnU",
        "outputId": "b5366a4a-09f4-4672-9fec-ce760f1795b6"
      },
      "execution_count": 20,
      "outputs": [
        {
          "output_type": "execute_result",
          "data": {
            "text/plain": [
              "array([[1., 1., 1.],\n",
              "       [1., 1., 1.]])"
            ]
          },
          "metadata": {},
          "execution_count": 20
        }
      ]
    },
    {
      "cell_type": "markdown",
      "source": [
        "Podemos realizar tranformaciones a enteros o strings  con el metodo *astype*, la sintaxis es como sigue:\n",
        "\n",
        "```\n",
        "np.array.astype(int/float/string/bool/etc)\n",
        "```"
      ],
      "metadata": {
        "id": "Db9p7sBt8VA_"
      }
    },
    {
      "cell_type": "code",
      "source": [
        "mint = mfloat.astype(int)\n",
        "mstr = mfloat.astype(str)\n",
        "mbool = mfloat.astype(bool)\n",
        "print(mint)\n",
        "print(mstr)\n",
        "print(mbool)"
      ],
      "metadata": {
        "colab": {
          "base_uri": "https://localhost:8080/"
        },
        "id": "qwxUGDQs8ojw",
        "outputId": "c5d5575f-6bd3-44bc-ec43-5f45b1c2599b"
      },
      "execution_count": 21,
      "outputs": [
        {
          "output_type": "stream",
          "name": "stdout",
          "text": [
            "[[1 1 1]\n",
            " [1 1 1]]\n",
            "[['1.0' '1.0' '1.0']\n",
            " ['1.0' '1.0' '1.0']]\n",
            "[[ True  True  True]\n",
            " [ True  True  True]]\n"
          ]
        }
      ]
    },
    {
      "cell_type": "markdown",
      "source": [
        "## Indexasion\n",
        "En cuanto a la indexasion, esta se realiza de manera similar a las listas y tuplas de python, donde si *a* es un *array*, *a* se indexa desde el elemento 0 hasta el n-1, y *a[i]* devuelve el i-esimo elemento."
      ],
      "metadata": {
        "id": "Q2Qpxx_i9uBU"
      }
    },
    {
      "cell_type": "code",
      "source": [
        "a = np.arange(1,11)\n",
        "print(a)\n",
        "print(a[2])"
      ],
      "metadata": {
        "colab": {
          "base_uri": "https://localhost:8080/"
        },
        "id": "qrjJg8qs-GnB",
        "outputId": "81568108-d3a8-4519-9f68-71c359559f26"
      },
      "execution_count": 23,
      "outputs": [
        {
          "output_type": "stream",
          "name": "stdout",
          "text": [
            "[ 1  2  3  4  5  6  7  8  9 10]\n",
            "3\n"
          ]
        }
      ]
    },
    {
      "cell_type": "markdown",
      "source": [
        "Podemos indexar elementos especificos con listas:"
      ],
      "metadata": {
        "id": "Yt0oDLox-VxC"
      }
    },
    {
      "cell_type": "code",
      "source": [
        "a[[1,3]]"
      ],
      "metadata": {
        "colab": {
          "base_uri": "https://localhost:8080/"
        },
        "id": "lhn7JnOW-bzc",
        "outputId": "4421b8f1-97c9-4f7f-ad7e-18937edd3120"
      },
      "execution_count": 26,
      "outputs": [
        {
          "output_type": "execute_result",
          "data": {
            "text/plain": [
              "array([2, 4])"
            ]
          },
          "metadata": {},
          "execution_count": 26
        }
      ]
    },
    {
      "cell_type": "markdown",
      "source": [
        "note que el objeto devuelto es de clase array, lo cual permite obtener elementos en especifico manteniendo el formato de la clase.\n",
        "\n",
        "En el caso de arrays multidimensionales, el indexado se realiza de una manera muy practica, si *a* es un array multidimensional, se indexa con *n* indices, donde *n* es la dimension del array:\n",
        "\n",
        "```\n",
        "a[d1,d2,...dn]\n",
        "```"
      ],
      "metadata": {
        "id": "ATLKEW-f-k4M"
      }
    },
    {
      "cell_type": "code",
      "source": [
        "m = np.eye(5)\n",
        "m"
      ],
      "metadata": {
        "colab": {
          "base_uri": "https://localhost:8080/"
        },
        "id": "78EdjT46_UIR",
        "outputId": "94f3712d-6e3e-472b-e518-612cb09d92e1"
      },
      "execution_count": 29,
      "outputs": [
        {
          "output_type": "execute_result",
          "data": {
            "text/plain": [
              "array([[1., 0., 0., 0., 0.],\n",
              "       [0., 1., 0., 0., 0.],\n",
              "       [0., 0., 1., 0., 0.],\n",
              "       [0., 0., 0., 1., 0.],\n",
              "       [0., 0., 0., 0., 1.]])"
            ]
          },
          "metadata": {},
          "execution_count": 29
        }
      ]
    },
    {
      "cell_type": "code",
      "source": [
        "m[2,2]"
      ],
      "metadata": {
        "colab": {
          "base_uri": "https://localhost:8080/"
        },
        "id": "mFpKFkCh_bIA",
        "outputId": "b28a01c7-fc31-47f2-b369-35727cd2c07a"
      },
      "execution_count": 30,
      "outputs": [
        {
          "output_type": "execute_result",
          "data": {
            "text/plain": [
              "1.0"
            ]
          },
          "metadata": {},
          "execution_count": 30
        }
      ]
    },
    {
      "cell_type": "markdown",
      "source": [
        "El slicing funciona de manera similar a cuando se trabaja con listas de python, sin embargo, podemos eralizar slicing en filas y columnas de manera simultanea. Por ejemplo, en el caso de un vector, podemos realizarlo de la manera tradicional"
      ],
      "metadata": {
        "id": "FB29Oum2AmQu"
      }
    },
    {
      "cell_type": "code",
      "source": [
        "vec = np.arange(0,11)\n",
        "vec"
      ],
      "metadata": {
        "colab": {
          "base_uri": "https://localhost:8080/"
        },
        "id": "86RJPbZmAz88",
        "outputId": "c36296d0-73b4-4918-84ec-b0a0aabf2f90"
      },
      "execution_count": 31,
      "outputs": [
        {
          "output_type": "execute_result",
          "data": {
            "text/plain": [
              "array([ 0,  1,  2,  3,  4,  5,  6,  7,  8,  9, 10])"
            ]
          },
          "metadata": {},
          "execution_count": 31
        }
      ]
    },
    {
      "cell_type": "code",
      "source": [
        "vec[4:9]"
      ],
      "metadata": {
        "colab": {
          "base_uri": "https://localhost:8080/"
        },
        "id": "eBbRDpH_A4Qi",
        "outputId": "34ebaa4d-43bc-4100-c062-236716ab6999"
      },
      "execution_count": 32,
      "outputs": [
        {
          "output_type": "execute_result",
          "data": {
            "text/plain": [
              "array([4, 5, 6, 7, 8])"
            ]
          },
          "metadata": {},
          "execution_count": 32
        }
      ]
    },
    {
      "cell_type": "markdown",
      "source": [
        "de la misma manera, podemos realizar slicing con matrices para obtener ciertas porciones de la misma:"
      ],
      "metadata": {
        "id": "A93f7tyBA9RO"
      }
    },
    {
      "cell_type": "code",
      "source": [
        "matrix = np.random.randint(1,10,size=(4,4))\n",
        "matrix"
      ],
      "metadata": {
        "colab": {
          "base_uri": "https://localhost:8080/"
        },
        "id": "RksObO2IBCB3",
        "outputId": "047f1230-d327-4268-dcfa-4caddd78bc3e"
      },
      "execution_count": 35,
      "outputs": [
        {
          "output_type": "execute_result",
          "data": {
            "text/plain": [
              "array([[4, 1, 9, 7],\n",
              "       [5, 6, 7, 3],\n",
              "       [6, 8, 9, 5],\n",
              "       [5, 8, 8, 5]])"
            ]
          },
          "metadata": {},
          "execution_count": 35
        }
      ]
    },
    {
      "cell_type": "code",
      "source": [
        "matrix[2:,2:]"
      ],
      "metadata": {
        "colab": {
          "base_uri": "https://localhost:8080/"
        },
        "id": "515W4bO4BWTM",
        "outputId": "881f93f2-4b30-4507-b045-2f0825cd9603"
      },
      "execution_count": 36,
      "outputs": [
        {
          "output_type": "execute_result",
          "data": {
            "text/plain": [
              "array([[9, 5],\n",
              "       [8, 5]])"
            ]
          },
          "metadata": {},
          "execution_count": 36
        }
      ]
    },
    {
      "cell_type": "markdown",
      "source": [
        "incluso podemos modificar el contenido de estas matrices con slices:"
      ],
      "metadata": {
        "id": "G026FYZBBanr"
      }
    },
    {
      "cell_type": "code",
      "source": [
        "matrix[-1,0:] = 0\n",
        "matrix"
      ],
      "metadata": {
        "colab": {
          "base_uri": "https://localhost:8080/"
        },
        "id": "IaBvVQoxBfYD",
        "outputId": "39e76925-93b9-4883-e463-9cfb31a83348"
      },
      "execution_count": 37,
      "outputs": [
        {
          "output_type": "execute_result",
          "data": {
            "text/plain": [
              "array([[4, 1, 9, 7],\n",
              "       [5, 6, 7, 3],\n",
              "       [6, 8, 9, 5],\n",
              "       [0, 0, 0, 0]])"
            ]
          },
          "metadata": {},
          "execution_count": 37
        }
      ]
    },
    {
      "cell_type": "markdown",
      "source": [
        "tambien podemos relizar slicing con operaciones, porejemplo:"
      ],
      "metadata": {
        "id": "vEKDn9YYCJGn"
      }
    },
    {
      "cell_type": "code",
      "source": [
        "a = np.arange(1,11)\n",
        "a"
      ],
      "metadata": {
        "colab": {
          "base_uri": "https://localhost:8080/"
        },
        "id": "Nd5HkDLlCNsz",
        "outputId": "e0075213-7bd8-449e-a5b0-c6c98ad1cf16"
      },
      "execution_count": 44,
      "outputs": [
        {
          "output_type": "execute_result",
          "data": {
            "text/plain": [
              "array([ 1,  2,  3,  4,  5,  6,  7,  8,  9, 10])"
            ]
          },
          "metadata": {},
          "execution_count": 44
        }
      ]
    },
    {
      "cell_type": "code",
      "source": [
        "b = a[a%2 == 0]\n",
        "b"
      ],
      "metadata": {
        "colab": {
          "base_uri": "https://localhost:8080/"
        },
        "id": "RlCEYkgCCR9W",
        "outputId": "da1fef96-3d97-46dc-cd43-32e4112ea69c"
      },
      "execution_count": 45,
      "outputs": [
        {
          "output_type": "execute_result",
          "data": {
            "text/plain": [
              "array([ 2,  4,  6,  8, 10])"
            ]
          },
          "metadata": {},
          "execution_count": 45
        }
      ]
    },
    {
      "cell_type": "markdown",
      "source": [
        "Debemos tener cuidado al declarar arrays como en el ejemplo anterior, ya que de esta manera *a* y *b* comparten la misma direccion de memoria, por lo tanto, modificar *b* modificadra *a* y viceversa:"
      ],
      "metadata": {
        "id": "xnDKUKH0CupW"
      }
    },
    {
      "cell_type": "code",
      "source": [
        "v1 = np.arange(1,10)\n",
        "v2 = v1[4:8]\n",
        "np.shares_memory(v1,v2)"
      ],
      "metadata": {
        "colab": {
          "base_uri": "https://localhost:8080/"
        },
        "id": "jQYC74b7C9h3",
        "outputId": "0996eea9-8fa4-4110-dace-f3b12c5f8cb0"
      },
      "execution_count": 47,
      "outputs": [
        {
          "output_type": "execute_result",
          "data": {
            "text/plain": [
              "True"
            ]
          },
          "metadata": {},
          "execution_count": 47
        }
      ]
    },
    {
      "cell_type": "markdown",
      "source": [
        "Para resolver este inconveniente podemos hacer uso del metodo *copy()* para garantizar que *v2* se asigne en una direccion de memoria diferente:"
      ],
      "metadata": {
        "id": "qeMIu-rXDgcE"
      }
    },
    {
      "cell_type": "code",
      "source": [
        "v1 = np.arange(1,10)\n",
        "v2 = v1[4:8].copy()\n",
        "np.shares_memory(v1,v2)"
      ],
      "metadata": {
        "colab": {
          "base_uri": "https://localhost:8080/"
        },
        "id": "CZ_N4OSdDrIr",
        "outputId": "d28a4c20-748d-4d16-a9e9-fbe02a56316d"
      },
      "execution_count": 48,
      "outputs": [
        {
          "output_type": "execute_result",
          "data": {
            "text/plain": [
              "False"
            ]
          },
          "metadata": {},
          "execution_count": 48
        }
      ]
    },
    {
      "cell_type": "markdown",
      "source": [
        "## Operaciones comunes\n",
        "Podemos realizar operaciones con  *escalares*, en el sentido en el que operan componente a componente con cada elemento del array, podemos realizar: suma, resta, multiplicacion, division, y elevar a exponentes:"
      ],
      "metadata": {
        "id": "GwnWfPL1D1s2"
      }
    },
    {
      "cell_type": "code",
      "source": [
        "a = np.arange(1,11)\n",
        "a"
      ],
      "metadata": {
        "colab": {
          "base_uri": "https://localhost:8080/"
        },
        "id": "uKptE-msFCLr",
        "outputId": "5e1f79f4-e00f-4f2e-c615-2b453ba0618f"
      },
      "execution_count": 50,
      "outputs": [
        {
          "output_type": "execute_result",
          "data": {
            "text/plain": [
              "array([ 1,  2,  3,  4,  5,  6,  7,  8,  9, 10])"
            ]
          },
          "metadata": {},
          "execution_count": 50
        }
      ]
    },
    {
      "cell_type": "code",
      "source": [
        "a+1"
      ],
      "metadata": {
        "colab": {
          "base_uri": "https://localhost:8080/"
        },
        "id": "N7tTjjb5FHIR",
        "outputId": "6caf6339-bcac-4283-eb01-2b39be78ea20"
      },
      "execution_count": 51,
      "outputs": [
        {
          "output_type": "execute_result",
          "data": {
            "text/plain": [
              "array([ 2,  3,  4,  5,  6,  7,  8,  9, 10, 11])"
            ]
          },
          "metadata": {},
          "execution_count": 51
        }
      ]
    },
    {
      "cell_type": "code",
      "source": [
        "a-1"
      ],
      "metadata": {
        "colab": {
          "base_uri": "https://localhost:8080/"
        },
        "id": "ZAlyh2k6FIzK",
        "outputId": "ba5111f5-bce1-4d63-85aa-c0994ac47750"
      },
      "execution_count": 52,
      "outputs": [
        {
          "output_type": "execute_result",
          "data": {
            "text/plain": [
              "array([0, 1, 2, 3, 4, 5, 6, 7, 8, 9])"
            ]
          },
          "metadata": {},
          "execution_count": 52
        }
      ]
    },
    {
      "cell_type": "code",
      "source": [
        "a*2"
      ],
      "metadata": {
        "colab": {
          "base_uri": "https://localhost:8080/"
        },
        "id": "8WvrVtRGFJ__",
        "outputId": "602e4d09-1d4e-4aff-f049-6d1911602761"
      },
      "execution_count": 53,
      "outputs": [
        {
          "output_type": "execute_result",
          "data": {
            "text/plain": [
              "array([ 2,  4,  6,  8, 10, 12, 14, 16, 18, 20])"
            ]
          },
          "metadata": {},
          "execution_count": 53
        }
      ]
    },
    {
      "cell_type": "code",
      "source": [
        "a/2"
      ],
      "metadata": {
        "colab": {
          "base_uri": "https://localhost:8080/"
        },
        "id": "DrRcavJxFLaJ",
        "outputId": "d85114f4-2f7c-4f6b-f328-615de1d180e1"
      },
      "execution_count": 54,
      "outputs": [
        {
          "output_type": "execute_result",
          "data": {
            "text/plain": [
              "array([0.5, 1. , 1.5, 2. , 2.5, 3. , 3.5, 4. , 4.5, 5. ])"
            ]
          },
          "metadata": {},
          "execution_count": 54
        }
      ]
    },
    {
      "cell_type": "code",
      "source": [
        "a**2"
      ],
      "metadata": {
        "colab": {
          "base_uri": "https://localhost:8080/"
        },
        "id": "ct0mHhYSFMpi",
        "outputId": "a5815652-dcf6-4021-8662-4f4ea09d7ae1"
      },
      "execution_count": 55,
      "outputs": [
        {
          "output_type": "execute_result",
          "data": {
            "text/plain": [
              "array([  1,   4,   9,  16,  25,  36,  49,  64,  81, 100])"
            ]
          },
          "metadata": {},
          "execution_count": 55
        }
      ]
    },
    {
      "cell_type": "markdown",
      "source": [
        "Tambien podemos realizar operaciones entre un par de arrays operando componente a componente de cada uno:"
      ],
      "metadata": {
        "id": "p-F03gIwFQSv"
      }
    },
    {
      "cell_type": "code",
      "source": [
        "a = np.arange(1,11)\n",
        "a"
      ],
      "metadata": {
        "colab": {
          "base_uri": "https://localhost:8080/"
        },
        "id": "CAoV9ZxLFX2G",
        "outputId": "8f83c548-6229-44c1-acca-bebbb05ce000"
      },
      "execution_count": 57,
      "outputs": [
        {
          "output_type": "execute_result",
          "data": {
            "text/plain": [
              "array([ 1,  2,  3,  4,  5,  6,  7,  8,  9, 10])"
            ]
          },
          "metadata": {},
          "execution_count": 57
        }
      ]
    },
    {
      "cell_type": "code",
      "source": [
        "b = np.arange(11,21)\n",
        "b"
      ],
      "metadata": {
        "colab": {
          "base_uri": "https://localhost:8080/"
        },
        "id": "rR4zKDCKFdNq",
        "outputId": "1b366df9-f565-41ec-b9e0-4b8a4c0a7602"
      },
      "execution_count": 58,
      "outputs": [
        {
          "output_type": "execute_result",
          "data": {
            "text/plain": [
              "array([11, 12, 13, 14, 15, 16, 17, 18, 19, 20])"
            ]
          },
          "metadata": {},
          "execution_count": 58
        }
      ]
    },
    {
      "cell_type": "code",
      "source": [
        "a+b"
      ],
      "metadata": {
        "colab": {
          "base_uri": "https://localhost:8080/"
        },
        "id": "hntIHlFuFhiA",
        "outputId": "14b4d650-7151-4e57-94d2-e00f6e1c84bb"
      },
      "execution_count": 59,
      "outputs": [
        {
          "output_type": "execute_result",
          "data": {
            "text/plain": [
              "array([12, 14, 16, 18, 20, 22, 24, 26, 28, 30])"
            ]
          },
          "metadata": {},
          "execution_count": 59
        }
      ]
    },
    {
      "cell_type": "code",
      "source": [
        "b-a"
      ],
      "metadata": {
        "colab": {
          "base_uri": "https://localhost:8080/"
        },
        "id": "xugG1T4lFnNJ",
        "outputId": "61761ebc-b508-46eb-8b71-20a308d8c65c"
      },
      "execution_count": 60,
      "outputs": [
        {
          "output_type": "execute_result",
          "data": {
            "text/plain": [
              "array([10, 10, 10, 10, 10, 10, 10, 10, 10, 10])"
            ]
          },
          "metadata": {},
          "execution_count": 60
        }
      ]
    },
    {
      "cell_type": "code",
      "source": [
        "a*b"
      ],
      "metadata": {
        "colab": {
          "base_uri": "https://localhost:8080/"
        },
        "id": "wMI5KAWIFo7G",
        "outputId": "c90062ca-654c-4804-b588-b03e2c7e631f"
      },
      "execution_count": 61,
      "outputs": [
        {
          "output_type": "execute_result",
          "data": {
            "text/plain": [
              "array([ 11,  24,  39,  56,  75,  96, 119, 144, 171, 200])"
            ]
          },
          "metadata": {},
          "execution_count": 61
        }
      ]
    },
    {
      "cell_type": "code",
      "source": [
        "a/b"
      ],
      "metadata": {
        "colab": {
          "base_uri": "https://localhost:8080/"
        },
        "id": "LatKgOk7FruA",
        "outputId": "dacebc73-7a7a-424d-dc95-09b8261229bc"
      },
      "execution_count": 62,
      "outputs": [
        {
          "output_type": "execute_result",
          "data": {
            "text/plain": [
              "array([0.09090909, 0.16666667, 0.23076923, 0.28571429, 0.33333333,\n",
              "       0.375     , 0.41176471, 0.44444444, 0.47368421, 0.5       ])"
            ]
          },
          "metadata": {},
          "execution_count": 62
        }
      ]
    },
    {
      "cell_type": "markdown",
      "source": [
        "Para realizar verdaderas operaciones matriciales se hace uso del *producto punto*, el cual simplemente realiza una multiplicacion de matrices (con la definicion formal)"
      ],
      "metadata": {
        "id": "heyl19z0Fx_q"
      }
    },
    {
      "cell_type": "code",
      "source": [
        "m1 = np.random.randint(1, 10, size=(4,2))\n",
        "m1"
      ],
      "metadata": {
        "colab": {
          "base_uri": "https://localhost:8080/"
        },
        "id": "xjHOzjknGC6I",
        "outputId": "6cea3d34-2941-46a6-f4f3-ed1c9b4890df"
      },
      "execution_count": 63,
      "outputs": [
        {
          "output_type": "execute_result",
          "data": {
            "text/plain": [
              "array([[1, 3],\n",
              "       [1, 8],\n",
              "       [2, 8],\n",
              "       [9, 5]])"
            ]
          },
          "metadata": {},
          "execution_count": 63
        }
      ]
    },
    {
      "cell_type": "code",
      "source": [
        "m2 = np.random.randint(1, 10, size=(2,3))\n",
        "m2"
      ],
      "metadata": {
        "colab": {
          "base_uri": "https://localhost:8080/"
        },
        "id": "XAPOjgptGNUt",
        "outputId": "dd2875e6-8561-43f4-ee21-e01e5344c7cb"
      },
      "execution_count": 65,
      "outputs": [
        {
          "output_type": "execute_result",
          "data": {
            "text/plain": [
              "array([[3, 7, 1],\n",
              "       [3, 7, 7]])"
            ]
          },
          "metadata": {},
          "execution_count": 65
        }
      ]
    },
    {
      "cell_type": "code",
      "source": [
        "m1.dot(m2)"
      ],
      "metadata": {
        "colab": {
          "base_uri": "https://localhost:8080/"
        },
        "id": "en-JIj3tGUuZ",
        "outputId": "0019a47b-c9cf-4920-ee62-22b94f79e0b0"
      },
      "execution_count": 66,
      "outputs": [
        {
          "output_type": "execute_result",
          "data": {
            "text/plain": [
              "array([[12, 28, 22],\n",
              "       [27, 63, 57],\n",
              "       [30, 70, 58],\n",
              "       [42, 98, 44]])"
            ]
          },
          "metadata": {},
          "execution_count": 66
        }
      ]
    },
    {
      "cell_type": "markdown",
      "source": [
        "Tambien podemos realizar transposiciones de matrices con dos metodos distintos:"
      ],
      "metadata": {
        "id": "GNtZxBD0HIy7"
      }
    },
    {
      "cell_type": "code",
      "source": [
        "m1.T"
      ],
      "metadata": {
        "colab": {
          "base_uri": "https://localhost:8080/"
        },
        "id": "1Yjw6zBZHNAT",
        "outputId": "cd5a9acc-d9b4-4e2e-b9c6-b71c5cc79d11"
      },
      "execution_count": 67,
      "outputs": [
        {
          "output_type": "execute_result",
          "data": {
            "text/plain": [
              "array([[1, 1, 2, 9],\n",
              "       [3, 8, 8, 5]])"
            ]
          },
          "metadata": {},
          "execution_count": 67
        }
      ]
    },
    {
      "cell_type": "code",
      "source": [
        "np.transpose(m1)"
      ],
      "metadata": {
        "colab": {
          "base_uri": "https://localhost:8080/"
        },
        "id": "wsnvXlSfHQDa",
        "outputId": "6e9e03aa-0645-4f5e-bf8d-a74210079d4f"
      },
      "execution_count": 68,
      "outputs": [
        {
          "output_type": "execute_result",
          "data": {
            "text/plain": [
              "array([[1, 1, 2, 9],\n",
              "       [3, 8, 8, 5]])"
            ]
          },
          "metadata": {},
          "execution_count": 68
        }
      ]
    },
    {
      "cell_type": "markdown",
      "source": [
        "Por ejemplo si queremos hacer un producto punto entre dos vectores:"
      ],
      "metadata": {
        "id": "5PS-ikAsHXSf"
      }
    },
    {
      "cell_type": "code",
      "source": [
        "a = np.arange(1,11)\n",
        "b = np.arange(11,21)\n",
        "print(a)\n",
        "print(b)"
      ],
      "metadata": {
        "colab": {
          "base_uri": "https://localhost:8080/"
        },
        "id": "FV3W9pO9Hagy",
        "outputId": "eb6753ef-2441-4ed2-b56e-cd6f7f9fefef"
      },
      "execution_count": 69,
      "outputs": [
        {
          "output_type": "stream",
          "name": "stdout",
          "text": [
            "[ 1  2  3  4  5  6  7  8  9 10]\n",
            "[11 12 13 14 15 16 17 18 19 20]\n"
          ]
        }
      ]
    },
    {
      "cell_type": "code",
      "source": [
        "aT = a.T\n",
        "aT.dot(b)"
      ],
      "metadata": {
        "colab": {
          "base_uri": "https://localhost:8080/"
        },
        "id": "WF2VQo7SHlYX",
        "outputId": "0b152513-5ad5-4e2a-b6fd-95960020d76b"
      },
      "execution_count": 70,
      "outputs": [
        {
          "output_type": "execute_result",
          "data": {
            "text/plain": [
              "935"
            ]
          },
          "metadata": {},
          "execution_count": 70
        }
      ]
    },
    {
      "cell_type": "markdown",
      "source": [
        "Tambien podemos realizar comparaciones con arrays:"
      ],
      "metadata": {
        "id": "JMf15qh5IDFi"
      }
    },
    {
      "cell_type": "code",
      "source": [
        "a = np.arange(1,11)\n",
        "b = np.arange(11,21)\n",
        "print(a)\n",
        "print(b)"
      ],
      "metadata": {
        "colab": {
          "base_uri": "https://localhost:8080/"
        },
        "id": "UUiH_CoAIHzC",
        "outputId": "60a3cc94-d145-43d1-c60f-417bce837a55"
      },
      "execution_count": 71,
      "outputs": [
        {
          "output_type": "stream",
          "name": "stdout",
          "text": [
            "[ 1  2  3  4  5  6  7  8  9 10]\n",
            "[11 12 13 14 15 16 17 18 19 20]\n"
          ]
        }
      ]
    },
    {
      "cell_type": "code",
      "source": [
        "a<b"
      ],
      "metadata": {
        "colab": {
          "base_uri": "https://localhost:8080/"
        },
        "id": "NhsNySMZIKVS",
        "outputId": "1c8c07f3-ada2-4ffa-e2ba-dd078409ff87"
      },
      "execution_count": 72,
      "outputs": [
        {
          "output_type": "execute_result",
          "data": {
            "text/plain": [
              "array([ True,  True,  True,  True,  True,  True,  True,  True,  True,\n",
              "        True])"
            ]
          },
          "metadata": {},
          "execution_count": 72
        }
      ]
    },
    {
      "cell_type": "code",
      "source": [
        "a==b"
      ],
      "metadata": {
        "colab": {
          "base_uri": "https://localhost:8080/"
        },
        "id": "sxuKA3PfIL3h",
        "outputId": "580d0aa5-ca9f-4980-f007-31703b846c93"
      },
      "execution_count": 73,
      "outputs": [
        {
          "output_type": "execute_result",
          "data": {
            "text/plain": [
              "array([False, False, False, False, False, False, False, False, False,\n",
              "       False])"
            ]
          },
          "metadata": {},
          "execution_count": 73
        }
      ]
    },
    {
      "cell_type": "markdown",
      "source": [
        "Tambien podemos calcular varias operaciones con el caontenido de cada array, por ejemplo para un vector:"
      ],
      "metadata": {
        "id": "gTtPXjZAKKCJ"
      }
    },
    {
      "cell_type": "code",
      "source": [
        "a = np.array([0,1,2,3,4])\n",
        "a"
      ],
      "metadata": {
        "colab": {
          "base_uri": "https://localhost:8080/"
        },
        "id": "JOimD-NyKROA",
        "outputId": "2a6c4b47-be4e-4dab-d986-a131a36c480a"
      },
      "execution_count": 75,
      "outputs": [
        {
          "output_type": "execute_result",
          "data": {
            "text/plain": [
              "array([0, 1, 2, 3, 4])"
            ]
          },
          "metadata": {},
          "execution_count": 75
        }
      ]
    },
    {
      "cell_type": "code",
      "source": [
        "np.max(a)"
      ],
      "metadata": {
        "colab": {
          "base_uri": "https://localhost:8080/"
        },
        "id": "Fjp1KyAMKZUd",
        "outputId": "748e32cc-b957-4d2a-e116-21a50d3b8245"
      },
      "execution_count": 77,
      "outputs": [
        {
          "output_type": "execute_result",
          "data": {
            "text/plain": [
              "4"
            ]
          },
          "metadata": {},
          "execution_count": 77
        }
      ]
    },
    {
      "cell_type": "code",
      "source": [
        "np.min(a)"
      ],
      "metadata": {
        "colab": {
          "base_uri": "https://localhost:8080/"
        },
        "id": "R6YrnvafKfol",
        "outputId": "47f6f0a6-7e7e-4665-c8f7-d218d9f5130d"
      },
      "execution_count": 78,
      "outputs": [
        {
          "output_type": "execute_result",
          "data": {
            "text/plain": [
              "0"
            ]
          },
          "metadata": {},
          "execution_count": 78
        }
      ]
    },
    {
      "cell_type": "code",
      "source": [
        "np.sum(a)"
      ],
      "metadata": {
        "colab": {
          "base_uri": "https://localhost:8080/"
        },
        "id": "0o7eSk37KhAg",
        "outputId": "d0c48575-2e50-40f5-f428-770c61ed188e"
      },
      "execution_count": 79,
      "outputs": [
        {
          "output_type": "execute_result",
          "data": {
            "text/plain": [
              "10"
            ]
          },
          "metadata": {},
          "execution_count": 79
        }
      ]
    },
    {
      "cell_type": "code",
      "source": [
        "np.mean(a)"
      ],
      "metadata": {
        "colab": {
          "base_uri": "https://localhost:8080/"
        },
        "id": "bEFAAGvkKjHB",
        "outputId": "aa29cd33-7c18-4a35-e835-6581e76d959e"
      },
      "execution_count": 81,
      "outputs": [
        {
          "output_type": "execute_result",
          "data": {
            "text/plain": [
              "2.0"
            ]
          },
          "metadata": {},
          "execution_count": 81
        }
      ]
    },
    {
      "cell_type": "code",
      "source": [
        "np.median(a)"
      ],
      "metadata": {
        "colab": {
          "base_uri": "https://localhost:8080/"
        },
        "id": "DpY2iFfmKnWz",
        "outputId": "77cd3a3c-0056-495d-a9b9-56e37d8c3788"
      },
      "execution_count": 82,
      "outputs": [
        {
          "output_type": "execute_result",
          "data": {
            "text/plain": [
              "2.0"
            ]
          },
          "metadata": {},
          "execution_count": 82
        }
      ]
    },
    {
      "cell_type": "code",
      "source": [
        "np.var(a)"
      ],
      "metadata": {
        "colab": {
          "base_uri": "https://localhost:8080/"
        },
        "id": "OKlCjlPZKpyC",
        "outputId": "730458a8-3aea-40f3-e8b9-f0a56424808d"
      },
      "execution_count": 83,
      "outputs": [
        {
          "output_type": "execute_result",
          "data": {
            "text/plain": [
              "2.0"
            ]
          },
          "metadata": {},
          "execution_count": 83
        }
      ]
    },
    {
      "cell_type": "code",
      "source": [
        "np.std(a)"
      ],
      "metadata": {
        "colab": {
          "base_uri": "https://localhost:8080/"
        },
        "id": "o80AQQYZKrhB",
        "outputId": "eab49ad4-1302-435e-fad7-bcd2a7921ca7"
      },
      "execution_count": 84,
      "outputs": [
        {
          "output_type": "execute_result",
          "data": {
            "text/plain": [
              "1.4142135623730951"
            ]
          },
          "metadata": {},
          "execution_count": 84
        }
      ]
    },
    {
      "cell_type": "markdown",
      "source": [
        "Por otro lado, tambien podemos realizar estas operaciones con matrices, para ello debe quedar claro que estas operaciones se realizan por ejes, donde el eje 0 corresponde al vertical (columnas) y el eje 1 al horizontal (filas). Por ejmplo:"
      ],
      "metadata": {
        "id": "cusrgsj9KwMg"
      }
    },
    {
      "cell_type": "code",
      "source": [
        "m = np.array([[1,2,3],[4,5,6],[7,8,9]])\n",
        "m"
      ],
      "metadata": {
        "colab": {
          "base_uri": "https://localhost:8080/"
        },
        "id": "Nyrc1MEWK9ZM",
        "outputId": "9ccf60a4-d583-4472-f5e4-2e0b2fb44d41"
      },
      "execution_count": 85,
      "outputs": [
        {
          "output_type": "execute_result",
          "data": {
            "text/plain": [
              "array([[1, 2, 3],\n",
              "       [4, 5, 6],\n",
              "       [7, 8, 9]])"
            ]
          },
          "metadata": {},
          "execution_count": 85
        }
      ]
    },
    {
      "cell_type": "code",
      "source": [
        "np.sum(m, axis=0) # columnas"
      ],
      "metadata": {
        "colab": {
          "base_uri": "https://localhost:8080/"
        },
        "id": "PNEdMl7-LCT7",
        "outputId": "185f1f5b-5ccd-47fc-a229-ef6f8d445171"
      },
      "execution_count": 86,
      "outputs": [
        {
          "output_type": "execute_result",
          "data": {
            "text/plain": [
              "array([12, 15, 18])"
            ]
          },
          "metadata": {},
          "execution_count": 86
        }
      ]
    },
    {
      "cell_type": "code",
      "source": [
        "np.sum(m, axis=1) # filas"
      ],
      "metadata": {
        "colab": {
          "base_uri": "https://localhost:8080/"
        },
        "id": "BZge0ZuSLPeY",
        "outputId": "71f320ea-a0a1-4257-bb84-35779136e46e"
      },
      "execution_count": 87,
      "outputs": [
        {
          "output_type": "execute_result",
          "data": {
            "text/plain": [
              "array([ 6, 15, 24])"
            ]
          },
          "metadata": {},
          "execution_count": 87
        }
      ]
    },
    {
      "cell_type": "markdown",
      "source": [
        "## Ordenamiento\n",
        "Numpy implementa un metodo para ordenar de manera ascendente los elementos de un array, el metodo es *sort()*, por ejemplo, para un vector:"
      ],
      "metadata": {
        "id": "1UP3dyzNLp4W"
      }
    },
    {
      "cell_type": "code",
      "source": [
        "vec = np.array([4,5,1,3,2])\n",
        "vec"
      ],
      "metadata": {
        "colab": {
          "base_uri": "https://localhost:8080/"
        },
        "id": "vLvI62zOL3py",
        "outputId": "d8d8453c-a279-4386-ef73-1ac2e7d68099"
      },
      "execution_count": 89,
      "outputs": [
        {
          "output_type": "execute_result",
          "data": {
            "text/plain": [
              "array([4, 5, 1, 3, 2])"
            ]
          },
          "metadata": {},
          "execution_count": 89
        }
      ]
    },
    {
      "cell_type": "code",
      "source": [
        "np.sort(vec)"
      ],
      "metadata": {
        "colab": {
          "base_uri": "https://localhost:8080/"
        },
        "id": "0BPze1nPMAg1",
        "outputId": "19dc426e-7750-4595-915a-4c8386655386"
      },
      "execution_count": 90,
      "outputs": [
        {
          "output_type": "execute_result",
          "data": {
            "text/plain": [
              "array([1, 2, 3, 4, 5])"
            ]
          },
          "metadata": {},
          "execution_count": 90
        }
      ]
    },
    {
      "cell_type": "markdown",
      "source": [
        "Tambien se puede usar con matrices:"
      ],
      "metadata": {
        "id": "2Y24ECqiMHrp"
      }
    },
    {
      "cell_type": "code",
      "source": [
        "m = np.random.randint(1,10, size=(3,3))\n",
        "m"
      ],
      "metadata": {
        "colab": {
          "base_uri": "https://localhost:8080/"
        },
        "id": "V977lCghMIFn",
        "outputId": "69849d5a-f14e-4114-ef0c-b2a9b18ffe7b"
      },
      "execution_count": 92,
      "outputs": [
        {
          "output_type": "execute_result",
          "data": {
            "text/plain": [
              "array([[7, 6, 2],\n",
              "       [3, 2, 6],\n",
              "       [5, 1, 8]])"
            ]
          },
          "metadata": {},
          "execution_count": 92
        }
      ]
    },
    {
      "cell_type": "code",
      "source": [
        "np.sort(m)"
      ],
      "metadata": {
        "colab": {
          "base_uri": "https://localhost:8080/"
        },
        "id": "fm_DrF5FMOUK",
        "outputId": "47983284-d65c-4dd9-a255-79c927ecd17f"
      },
      "execution_count": 93,
      "outputs": [
        {
          "output_type": "execute_result",
          "data": {
            "text/plain": [
              "array([[2, 6, 7],\n",
              "       [2, 3, 6],\n",
              "       [1, 5, 8]])"
            ]
          },
          "metadata": {},
          "execution_count": 93
        }
      ]
    },
    {
      "cell_type": "code",
      "source": [
        "np.sort(m, axis=0)"
      ],
      "metadata": {
        "colab": {
          "base_uri": "https://localhost:8080/"
        },
        "id": "-2wxTK_mMSiv",
        "outputId": "e3c0cedd-19d7-468b-dc47-41d151a8f69d"
      },
      "execution_count": 95,
      "outputs": [
        {
          "output_type": "execute_result",
          "data": {
            "text/plain": [
              "array([[3, 1, 2],\n",
              "       [5, 2, 6],\n",
              "       [7, 6, 8]])"
            ]
          },
          "metadata": {},
          "execution_count": 95
        }
      ]
    },
    {
      "cell_type": "markdown",
      "source": [
        "## Redimensionar arrays\n",
        "Numpy ofrece una gran variedad de metodos para redimensionar cualquier arrays, por ejemplo, *ravel()* extiende cualquier matriz en un vector unidimensional:"
      ],
      "metadata": {
        "id": "hzJE-kC9OVlx"
      }
    },
    {
      "cell_type": "code",
      "source": [
        "m = np.array([[1,2,3],[4,5,6]])\n",
        "m"
      ],
      "metadata": {
        "colab": {
          "base_uri": "https://localhost:8080/"
        },
        "id": "kauqglsEOhlp",
        "outputId": "d3a7ee49-351e-4412-8234-7046ff2907b1"
      },
      "execution_count": 97,
      "outputs": [
        {
          "output_type": "execute_result",
          "data": {
            "text/plain": [
              "array([[1, 2, 3],\n",
              "       [4, 5, 6]])"
            ]
          },
          "metadata": {},
          "execution_count": 97
        }
      ]
    },
    {
      "cell_type": "code",
      "source": [
        "m.ravel()"
      ],
      "metadata": {
        "colab": {
          "base_uri": "https://localhost:8080/"
        },
        "id": "Qg6skYLzOqUb",
        "outputId": "72af4c99-ea29-47c1-9cd1-4968734cfebb"
      },
      "execution_count": 98,
      "outputs": [
        {
          "output_type": "execute_result",
          "data": {
            "text/plain": [
              "array([1, 2, 3, 4, 5, 6])"
            ]
          },
          "metadata": {},
          "execution_count": 98
        }
      ]
    },
    {
      "cell_type": "markdown",
      "source": [
        "Tambien podemos hacer uso del metodo *reshape* para redimensionar cualquier matriz de la forma (#filas, #columnas), siempre y cuando la dimension actual permita acomodar los objetos de esta manera:"
      ],
      "metadata": {
        "id": "pg-E7LboPCa9"
      }
    },
    {
      "cell_type": "code",
      "source": [
        "m = np.random.randint(1,5, size=(6,6))\n",
        "m"
      ],
      "metadata": {
        "colab": {
          "base_uri": "https://localhost:8080/"
        },
        "id": "kCOeBHyxPPA5",
        "outputId": "48012768-b12b-48d3-9eb1-8a6c7038e672"
      },
      "execution_count": 100,
      "outputs": [
        {
          "output_type": "execute_result",
          "data": {
            "text/plain": [
              "array([[2, 1, 2, 2, 4, 1],\n",
              "       [2, 4, 2, 2, 3, 2],\n",
              "       [1, 1, 4, 3, 2, 1],\n",
              "       [4, 4, 1, 4, 2, 3],\n",
              "       [4, 2, 2, 1, 2, 1],\n",
              "       [2, 1, 2, 4, 2, 2]])"
            ]
          },
          "metadata": {},
          "execution_count": 100
        }
      ]
    },
    {
      "cell_type": "code",
      "source": [
        "m.reshape(1,36)"
      ],
      "metadata": {
        "colab": {
          "base_uri": "https://localhost:8080/"
        },
        "id": "U36nE16LPVqW",
        "outputId": "fc68f713-1cfe-413d-e286-bd5cc06ec049"
      },
      "execution_count": 101,
      "outputs": [
        {
          "output_type": "execute_result",
          "data": {
            "text/plain": [
              "array([[2, 1, 2, 2, 4, 1, 2, 4, 2, 2, 3, 2, 1, 1, 4, 3, 2, 1, 4, 4, 1, 4,\n",
              "        2, 3, 4, 2, 2, 1, 2, 1, 2, 1, 2, 4, 2, 2]])"
            ]
          },
          "metadata": {},
          "execution_count": 101
        }
      ]
    },
    {
      "cell_type": "code",
      "source": [
        "m.reshape(2,18)"
      ],
      "metadata": {
        "colab": {
          "base_uri": "https://localhost:8080/"
        },
        "id": "ZNo4xuplPd_G",
        "outputId": "c3618cf1-69c6-4a28-8300-6c3dbd7dbee1"
      },
      "execution_count": 102,
      "outputs": [
        {
          "output_type": "execute_result",
          "data": {
            "text/plain": [
              "array([[2, 1, 2, 2, 4, 1, 2, 4, 2, 2, 3, 2, 1, 1, 4, 3, 2, 1],\n",
              "       [4, 4, 1, 4, 2, 3, 4, 2, 2, 1, 2, 1, 2, 1, 2, 4, 2, 2]])"
            ]
          },
          "metadata": {},
          "execution_count": 102
        }
      ]
    },
    {
      "cell_type": "code",
      "source": [
        "m.reshape(3,12)"
      ],
      "metadata": {
        "colab": {
          "base_uri": "https://localhost:8080/"
        },
        "id": "fYLt0A1EPgbY",
        "outputId": "12bdba6d-d51e-4368-914b-fca3f7cbf748"
      },
      "execution_count": 103,
      "outputs": [
        {
          "output_type": "execute_result",
          "data": {
            "text/plain": [
              "array([[2, 1, 2, 2, 4, 1, 2, 4, 2, 2, 3, 2],\n",
              "       [1, 1, 4, 3, 2, 1, 4, 4, 1, 4, 2, 3],\n",
              "       [4, 2, 2, 1, 2, 1, 2, 1, 2, 4, 2, 2]])"
            ]
          },
          "metadata": {},
          "execution_count": 103
        }
      ]
    },
    {
      "cell_type": "code",
      "source": [
        "m.reshape(4,9)"
      ],
      "metadata": {
        "colab": {
          "base_uri": "https://localhost:8080/"
        },
        "id": "_jFGCuHlPi2a",
        "outputId": "e8102ef3-62a1-4d0d-91f1-e6f2dd957895"
      },
      "execution_count": 104,
      "outputs": [
        {
          "output_type": "execute_result",
          "data": {
            "text/plain": [
              "array([[2, 1, 2, 2, 4, 1, 2, 4, 2],\n",
              "       [2, 3, 2, 1, 1, 4, 3, 2, 1],\n",
              "       [4, 4, 1, 4, 2, 3, 4, 2, 2],\n",
              "       [1, 2, 1, 2, 1, 2, 4, 2, 2]])"
            ]
          },
          "metadata": {},
          "execution_count": 104
        }
      ]
    },
    {
      "cell_type": "markdown",
      "source": [
        "Si un *reshape()* no esta permitido por la dimension actual del array, entonces podemos recurrir al metodo *resize()*, el cual funciona de la misma maner aque *reshape()* pero permite cualquier dimension agregando 0s para los espacios faltantes:"
      ],
      "metadata": {
        "id": "ldTExetuPo9I"
      }
    },
    {
      "cell_type": "code",
      "source": [
        "a = np.array([0,1,2,3,4])\n",
        "a.resize((10,))\n",
        "a"
      ],
      "metadata": {
        "colab": {
          "base_uri": "https://localhost:8080/"
        },
        "id": "Ro5J-clyP5jr",
        "outputId": "3f1d1a6e-df08-4dc9-a101-535e03014ee2"
      },
      "execution_count": 107,
      "outputs": [
        {
          "output_type": "execute_result",
          "data": {
            "text/plain": [
              "array([0, 1, 2, 3, 4, 0, 0, 0, 0, 0])"
            ]
          },
          "metadata": {},
          "execution_count": 107
        }
      ]
    }
  ]
}